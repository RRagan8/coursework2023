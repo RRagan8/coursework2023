{
 "cells": [
  {
   "cell_type": "code",
   "execution_count": 20,
   "id": "eda4c64d",
   "metadata": {},
   "outputs": [
    {
     "name": "stdout",
     "output_type": "stream",
     "text": [
      "Items similar to item 6481:\n",
      "Int64Index([1658, 3192, 5494, 5764, 2100, 3010, 2065, 3053, 5906, 285], dtype='int64', name='Registration number')\n"
     ]
    }
   ],
   "source": [
    "import pandas as pd\n",
    "from sklearn.metrics.pairwise import cosine_similarity\n",
    "\n",
    "# Load the dataset\n",
    "data = pd.read_csv('ratings.csv').drop(['Unnamed: 0'], axis=1)\n",
    "data\n",
    "\n",
    "# Create the item-user matrix\n",
    "item_user_matrix = data.pivot_table(columns='Registration number', index='User_id', values='rating', fill_value=0)\n",
    "\n",
    "# Compute the item-item similarity matrix\n",
    "item_similarity = cosine_similarity(item_user_matrix.T)\n",
    "\n",
    "# Function to get similar items for a given item\n",
    "def get_similar_items(item_id, similarity_matrix, num_items=10):\n",
    "    item_similarity_scores = similarity_matrix[item_id]\n",
    "    similar_item_indices = item_similarity_scores.argsort()[::-1][1:num_items+1]\n",
    "    similar_items = item_user_matrix.columns[similar_item_indices]\n",
    "    return similar_items\n",
    "\n",
    "# Test the recommendation system\n",
    "item_id = 6481\n",
    "similar_items = get_similar_items(item_id, item_similarity)\n",
    "print(f\"Items similar to item {item_id}:\")\n",
    "print(similar_items)\n",
    "# выводит список похожих поставщиков на сравниваемого поставщика: т.е. для поставщика 564 алгоритм порекомендует \n",
    "# топ 10 поставщиков, на основе среднего рейтинга по убыванию"
   ]
  },
  {
   "cell_type": "code",
   "execution_count": 23,
   "id": "5f61a822",
   "metadata": {},
   "outputs": [
    {
     "data": {
      "text/html": [
       "<div>\n",
       "<style scoped>\n",
       "    .dataframe tbody tr th:only-of-type {\n",
       "        vertical-align: middle;\n",
       "    }\n",
       "\n",
       "    .dataframe tbody tr th {\n",
       "        vertical-align: top;\n",
       "    }\n",
       "\n",
       "    .dataframe thead th {\n",
       "        text-align: right;\n",
       "    }\n",
       "</style>\n",
       "<table border=\"1\" class=\"dataframe\">\n",
       "  <thead>\n",
       "    <tr style=\"text-align: right;\">\n",
       "      <th></th>\n",
       "      <th>User_id</th>\n",
       "      <th>Registration number</th>\n",
       "      <th>rating</th>\n",
       "    </tr>\n",
       "  </thead>\n",
       "  <tbody>\n",
       "    <tr>\n",
       "      <th>6654</th>\n",
       "      <td>0</td>\n",
       "      <td>1658</td>\n",
       "      <td>1.8</td>\n",
       "    </tr>\n",
       "    <tr>\n",
       "      <th>27973</th>\n",
       "      <td>4</td>\n",
       "      <td>1658</td>\n",
       "      <td>3.8</td>\n",
       "    </tr>\n",
       "    <tr>\n",
       "      <th>36606</th>\n",
       "      <td>7</td>\n",
       "      <td>1658</td>\n",
       "      <td>3.7</td>\n",
       "    </tr>\n",
       "    <tr>\n",
       "      <th>51253</th>\n",
       "      <td>11</td>\n",
       "      <td>1658</td>\n",
       "      <td>3.7</td>\n",
       "    </tr>\n",
       "    <tr>\n",
       "      <th>58388</th>\n",
       "      <td>12</td>\n",
       "      <td>1658</td>\n",
       "      <td>4.8</td>\n",
       "    </tr>\n",
       "    <tr>\n",
       "      <th>63998</th>\n",
       "      <td>13</td>\n",
       "      <td>1658</td>\n",
       "      <td>5.0</td>\n",
       "    </tr>\n",
       "    <tr>\n",
       "      <th>67321</th>\n",
       "      <td>14</td>\n",
       "      <td>1658</td>\n",
       "      <td>4.0</td>\n",
       "    </tr>\n",
       "    <tr>\n",
       "      <th>71740</th>\n",
       "      <td>15</td>\n",
       "      <td>1658</td>\n",
       "      <td>3.6</td>\n",
       "    </tr>\n",
       "    <tr>\n",
       "      <th>79769</th>\n",
       "      <td>16</td>\n",
       "      <td>1658</td>\n",
       "      <td>1.2</td>\n",
       "    </tr>\n",
       "    <tr>\n",
       "      <th>88378</th>\n",
       "      <td>20</td>\n",
       "      <td>1658</td>\n",
       "      <td>2.6</td>\n",
       "    </tr>\n",
       "    <tr>\n",
       "      <th>99887</th>\n",
       "      <td>22</td>\n",
       "      <td>1658</td>\n",
       "      <td>0.9</td>\n",
       "    </tr>\n",
       "  </tbody>\n",
       "</table>\n",
       "</div>"
      ],
      "text/plain": [
       "       User_id  Registration number  rating\n",
       "6654         0                 1658     1.8\n",
       "27973        4                 1658     3.8\n",
       "36606        7                 1658     3.7\n",
       "51253       11                 1658     3.7\n",
       "58388       12                 1658     4.8\n",
       "63998       13                 1658     5.0\n",
       "67321       14                 1658     4.0\n",
       "71740       15                 1658     3.6\n",
       "79769       16                 1658     1.2\n",
       "88378       20                 1658     2.6\n",
       "99887       22                 1658     0.9"
      ]
     },
     "execution_count": 23,
     "metadata": {},
     "output_type": "execute_result"
    }
   ],
   "source": [
    "data[data['Registration number'] == 1658]"
   ]
  },
  {
   "cell_type": "code",
   "execution_count": 25,
   "id": "d491be1d",
   "metadata": {},
   "outputs": [
    {
     "data": {
      "text/plain": [
       "User_id\n",
       "0     1.8\n",
       "1     0.0\n",
       "2     0.0\n",
       "3     0.0\n",
       "4     3.8\n",
       "5     0.0\n",
       "6     0.0\n",
       "7     3.7\n",
       "8     0.0\n",
       "9     0.0\n",
       "10    0.0\n",
       "11    3.7\n",
       "12    4.8\n",
       "13    5.0\n",
       "14    4.0\n",
       "15    3.6\n",
       "16    1.2\n",
       "17    0.0\n",
       "18    0.0\n",
       "19    0.0\n",
       "20    2.6\n",
       "21    0.0\n",
       "22    0.9\n",
       "23    0.0\n",
       "24    0.0\n",
       "Name: 1658, dtype: float64"
      ]
     },
     "execution_count": 25,
     "metadata": {},
     "output_type": "execute_result"
    }
   ],
   "source": [
    "item_user_matrix[1658]"
   ]
  },
  {
   "cell_type": "code",
   "execution_count": 32,
   "id": "f535d0f6",
   "metadata": {},
   "outputs": [
    {
     "name": "stdout",
     "output_type": "stream",
     "text": [
      "9891\n"
     ]
    }
   ],
   "source": [
    "print(len(item_similarity[0]))"
   ]
  },
  {
   "cell_type": "code",
   "execution_count": 30,
   "id": "9a6d2b1b",
   "metadata": {},
   "outputs": [
    {
     "data": {
      "text/plain": [
       "array([[1.        , 0.54308863, 0.43774982, ..., 0.60902804, 0.58117934,\n",
       "        0.47162831],\n",
       "       [0.54308863, 1.        , 0.33767778, ..., 0.69058496, 0.36260865,\n",
       "        0.50028408],\n",
       "       [0.43774982, 0.33767778, 1.        , ..., 0.31110967, 0.52874674,\n",
       "        0.49899567],\n",
       "       ...,\n",
       "       [0.60902804, 0.69058496, 0.31110967, ..., 1.        , 0.32450468,\n",
       "        0.53429867],\n",
       "       [0.58117934, 0.36260865, 0.52874674, ..., 0.32450468, 1.        ,\n",
       "        0.53823368],\n",
       "       [0.47162831, 0.50028408, 0.49899567, ..., 0.53429867, 0.53823368,\n",
       "        1.        ]])"
      ]
     },
     "execution_count": 30,
     "metadata": {},
     "output_type": "execute_result"
    }
   ],
   "source": [
    "item_similarity"
   ]
  },
  {
   "cell_type": "code",
   "execution_count": null,
   "id": "87882546",
   "metadata": {},
   "outputs": [],
   "source": []
  }
 ],
 "metadata": {
  "kernelspec": {
   "display_name": "Python 3 (ipykernel)",
   "language": "python",
   "name": "python3"
  },
  "language_info": {
   "codemirror_mode": {
    "name": "ipython",
    "version": 3
   },
   "file_extension": ".py",
   "mimetype": "text/x-python",
   "name": "python",
   "nbconvert_exporter": "python",
   "pygments_lexer": "ipython3",
   "version": "3.9.13"
  }
 },
 "nbformat": 4,
 "nbformat_minor": 5
}

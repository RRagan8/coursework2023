{
 "cells": [
  {
   "cell_type": "code",
   "execution_count": null,
   "id": "6a153e1c",
   "metadata": {},
   "outputs": [],
   "source": [
    "import numpy as np\n",
    "import pandas as pd"
   ]
  },
  {
   "cell_type": "code",
   "execution_count": null,
   "id": "13d57f5a",
   "metadata": {},
   "outputs": [],
   "source": [
    "df = pd.read_excel('/Users/aiakovleva/Downloads/comments.xlsx')\n",
    "df.head"
   ]
  },
  {
   "cell_type": "code",
   "execution_count": null,
   "id": "6f1fc2e3",
   "metadata": {},
   "outputs": [],
   "source": [
    "name = []\n",
    "reviews = []\n",
    "grade = []\n",
    "\n",
    "\n",
    "for element in range(63):\n",
    "    na = df['Name'][element]\n",
    "    review = df['Comment'][element]\n",
    "    gr = df['Grade'][element]\n",
    "    name.append(na)\n",
    "    reviews.append(review)\n",
    "    grade.append(gr)\n",
    "\n",
    "df = pd.DataFrame({'Name': name, 'Comment': reviews, 'Grade': grade})\n",
    "df "
   ]
  },
  {
   "cell_type": "code",
   "execution_count": null,
   "id": "9b5cc8c0",
   "metadata": {},
   "outputs": [],
   "source": [
    "for i in range (len(reviews)):\n",
    "    print(reviews[i])"
   ]
  },
  {
   "cell_type": "code",
   "execution_count": null,
   "id": "406ea351",
   "metadata": {},
   "outputs": [],
   "source": [
    "df1 = df.copy()\n",
    "name1 = []\n",
    "data = {}\n",
    "\n",
    "for row in range(len(df1.index)):\n",
    "    if df1.iat[row, 0] not in name1:\n",
    "        m=name1.append(df1.iat[row, 0])\n",
    "        df2 = df1[df1['Name'] == df1.iat[row, 0]]\n",
    "        tem = []\n",
    "        for i in range(len(df2.index)):\n",
    "            tem.append(df2.iat[i, 1].lower())\n",
    "        data[df1.iat[row, 0]] = tem\n",
    "\n",
    "reviews1 = []*len(name1)\n",
    "\n",
    "for i in range(len(name1)):\n",
    "    reviews1.append(data[name1[i]])"
   ]
  },
  {
   "cell_type": "code",
   "execution_count": null,
   "id": "79c03faf",
   "metadata": {},
   "outputs": [],
   "source": [
    "#for i in range(len(name1)):\n",
    "#    name1[i] = name1[i][:-1]"
   ]
  },
  {
   "cell_type": "code",
   "execution_count": null,
   "id": "bbb59346",
   "metadata": {},
   "outputs": [],
   "source": [
    "import re\n",
    "import string"
   ]
  },
  {
   "cell_type": "code",
   "execution_count": null,
   "id": "5dc3101f",
   "metadata": {},
   "outputs": [],
   "source": [
    "import nltk\n",
    "nltk.download('punkt')\n",
    "import pymorphy2\n",
    "from nltk.corpus import stopwords\n",
    "from nltk.tokenize import word_tokenize\n",
    "from nltk.stem import WordNetLemmatizer\n",
    "lemmatizer = WordNetLemmatizer()"
   ]
  },
  {
   "cell_type": "code",
   "execution_count": null,
   "id": "22d18c3b",
   "metadata": {},
   "outputs": [],
   "source": [
    "def preprocessing(review):\n",
    "    \n",
    "    # data cleaning\n",
    "    review = review.lower()\n",
    "    #review = re.sub(r'((www.\\.\\[^\\s]+)|(https?://[^\\s]+))', r'', review)\n",
    "    #review = re.sub(r'@[^\\s]+', r'', review)\n",
    "    #review = re.sub(r'\\W*\\b\\w{1,3}\\b', r'', review)\n",
    "    \n",
    "    token = nltk.word_tokenize(review)\n",
    "    \n",
    "    #review = [word for word in token if (word not in string.punctuation and word != \"' '\" and word != \"``\" and word != \"''\" and word.isnumeric() == False) ]\n",
    "    \n",
    "    review = ' '.join(pymorphy2.MorphAnalyzer().parse(word)[0].normal_form for word in review)\n",
    "#     review = [lemmatizer.lemmatize(word) for word in review]\n",
    "#     review = ' '.join(review)\n",
    "    \n",
    "    return review "
   ]
  },
  {
   "cell_type": "code",
   "execution_count": null,
   "id": "8349a078",
   "metadata": {},
   "outputs": [],
   "source": [
    "def prepareOnePlaceReviews(reviews):\n",
    "    for i in range(len(reviews)):\n",
    "        reviews[i] = preprocessing(reviews[i])\n",
    "    return reviews"
   ]
  },
  {
   "cell_type": "code",
   "execution_count": null,
   "id": "1eb4c2c0",
   "metadata": {},
   "outputs": [],
   "source": [
    "#df['Comment'] = df['Comment'].apply(lambda reviews: prepareOnePlaceReviews(reviews))"
   ]
  },
  {
   "cell_type": "code",
   "execution_count": null,
   "id": "a9a02b0a",
   "metadata": {},
   "outputs": [],
   "source": [
    "new_temp = df.copy()"
   ]
  },
  {
   "cell_type": "code",
   "execution_count": null,
   "id": "62c50b51",
   "metadata": {},
   "outputs": [],
   "source": []
  },
  {
   "cell_type": "code",
   "execution_count": null,
   "id": "7bf842c0",
   "metadata": {},
   "outputs": [],
   "source": [
    "df['Comment'][0]"
   ]
  },
  {
   "cell_type": "code",
   "execution_count": null,
   "id": "096d05e8",
   "metadata": {},
   "outputs": [],
   "source": [
    "import numpy as np\n",
    "import re\n",
    "from tensorflow.keras.layers import Dense, LSTM, Input, Dropout, Embedding\n",
    "from tensorflow.keras.models import Sequential\n",
    "from tensorflow.keras.optimizers import Adam\n",
    "from tensorflow.keras.preprocessing.text import Tokenizer, text_to_word_sequence\n",
    "from tensorflow.keras.preprocessing.sequence import pad_sequences"
   ]
  },
  {
   "cell_type": "code",
   "execution_count": null,
   "id": "eefd92c2",
   "metadata": {},
   "outputs": [],
   "source": [
    "f = open('/Users/aiakovleva/Downloads/train_data_true.txt', 'r', encoding='utf-8')\n",
    "texts_true = f.readlines()\n",
    "texts_true[0] = texts_true[0].replace('\\ufeff','')"
   ]
  },
  {
   "cell_type": "code",
   "execution_count": null,
   "id": "c1bef5ca",
   "metadata": {},
   "outputs": [],
   "source": [
    "f = open('/Users/aiakovleva/Downloads/train_data_false.txt', 'r', encoding='utf-8')\n",
    "texts_false = f.readlines()\n",
    "texts_false[0] = texts_false[0].replace('\\ufeff','')"
   ]
  },
  {
   "cell_type": "code",
   "execution_count": null,
   "id": "ce8c2462",
   "metadata": {},
   "outputs": [],
   "source": [
    "texts = texts_true + texts_false\n",
    "count_true = len(texts_true)\n",
    "count_false = len(texts_false)\n",
    "total_lines = count_true + count_false\n",
    "print(count_true,count_false,total_lines)"
   ]
  },
  {
   "cell_type": "code",
   "execution_count": null,
   "id": "1c9830a1",
   "metadata": {},
   "outputs": [],
   "source": [
    "maxWordsCount = 2000\n",
    "tokenizer = Tokenizer(num_words=maxWordsCount, filters='!–\"—#$%&amp;()*+,-./:;<=>?@[\\\\]^_`{|}~\\t\\n\\r«»', lower=True, split=' ', char_level=False)\n",
    "tokenizer. fit_on_texts (texts)"
   ]
  },
  {
   "cell_type": "code",
   "execution_count": null,
   "id": "10b91f16",
   "metadata": {},
   "outputs": [],
   "source": [
    "data = tokenizer.texts_to_sequences(texts)\n",
    "max_text_len = 10\n",
    "data_pad = pad_sequences(data, maxlen=max_text_len)\n",
    "print(data_pad)\n",
    "print(data_pad.shape)"
   ]
  },
  {
   "cell_type": "code",
   "execution_count": null,
   "id": "867d5267",
   "metadata": {},
   "outputs": [],
   "source": [
    "X = data_pad\n",
    "Y = np.array([[1, 0]]*count_true + [[0, 1]]*count_false)\n",
    "print(X.shape, Y.shape)"
   ]
  },
  {
   "cell_type": "code",
   "execution_count": null,
   "id": "06c621a1",
   "metadata": {},
   "outputs": [],
   "source": [
    "indeces = np.random.choice(X.shape[0], size=X.shape[0], replace=False)\n",
    "X = X[indeces]\n",
    "Y = Y[indeces]"
   ]
  },
  {
   "cell_type": "code",
   "execution_count": null,
   "id": "760c58ac",
   "metadata": {},
   "outputs": [],
   "source": [
    "model = Sequential()\n",
    "model.add(Embedding(maxWordsCount, 128, input_length = max_text_len))\n",
    "model.add(LSTM(64, activation='tanh', return_sequences=True))\n",
    "model.add(LSTM(32, activation='tanh'))\n",
    "model.add(Dense(2, activation='softmax'))\n",
    "model.summary()\n",
    "model.compile(loss='categorical_crossentropy', metrics = ['accuracy'], optimizer = Adam(0.0001))"
   ]
  },
  {
   "cell_type": "code",
   "execution_count": null,
   "id": "44639fd3",
   "metadata": {},
   "outputs": [],
   "source": [
    "history = model.fit(X, Y, batch_size=32, epochs=50)"
   ]
  },
  {
   "cell_type": "code",
   "execution_count": null,
   "id": "58dce3f7",
   "metadata": {},
   "outputs": [],
   "source": [
    "strings = df.shape[0]\n",
    "print(strings)"
   ]
  },
  {
   "cell_type": "code",
   "execution_count": null,
   "id": "3e5fe068",
   "metadata": {},
   "outputs": [],
   "source": [
    "def res_to_string(result):\n",
    "    count_all_positive = 0\n",
    "    count_all_negative = 0\n",
    "    if (result[0][0] < result[0][1]):\n",
    "        count_all_negative += 1;\n",
    "    elif (result[0][0]) > (result[0][1]):\n",
    "        count_all_positive += 1;\n",
    "    return [count_all_positive,count_all_negative]"
   ]
  },
  {
   "cell_type": "code",
   "execution_count": null,
   "id": "0f703b36",
   "metadata": {},
   "outputs": [],
   "source": [
    "tup_pos = []\n",
    "tup_neg = []\n",
    "tup = []\n",
    "\n",
    "for i in range(strings):\n",
    "    a = 0\n",
    "    b = 0\n",
    "    tup_tonality = []*len(df.iat[i,1])\n",
    "    for j in range(len(df.iat[i,1])):\n",
    "        t = df.iat[i,1][j]\n",
    "        data = tokenizer.texts_to_sequences([t])\n",
    "        data_pad = pad_sequences(data, maxlen = max_text_len)\n",
    "        res = model.predict(data_pad)\n",
    "        tup_tonality.append(res_to_string(res))\n",
    "        print(res_to_string(res))\n",
    "        a += res_to_string(res)[0]\n",
    "        b += res_to_string(res)[1]\n",
    "    tup_pos.append(a)\n",
    "    tup_neg.append(b)\n",
    "    tup.append(tup_tonality)"
   ]
  },
  {
   "cell_type": "code",
   "execution_count": null,
   "id": "032666e5",
   "metadata": {},
   "outputs": [],
   "source": [
    "#new_temp = df[['Name', 'Comment']]\n",
    "#new_temp['tonality_of_each_review'] = tup\n",
    "#new_temp"
   ]
  },
  {
   "cell_type": "code",
   "execution_count": null,
   "id": "1c664270",
   "metadata": {},
   "outputs": [],
   "source": [
    "positive = []\n",
    "negative = []\n",
    "\n",
    "for p in range(len(new_temp.index)):\n",
    "    \n",
    "    pos_reviews = []\n",
    "    neg_reviews = []\n",
    "\n",
    "    for k in range(len(df.iat[p,1])):\n",
    "        if df.iat[p,1][k] == [1,0]:\n",
    "            pos_reviews.append(df.iat[p,1][k])\n",
    "        else:\n",
    "            neg_reviews.append(df.iat[p,1][k])\n",
    "    positive.append(pos_reviews)\n",
    "    negative.append(neg_reviews)\n",
    "\n",
    "\n",
    "new_temp['positive_reviews'] = positive\n",
    "new_temp['negative_reviews'] = negative\n",
    "# new_temp"
   ]
  },
  {
   "cell_type": "code",
   "execution_count": null,
   "id": "e2b97ee4",
   "metadata": {},
   "outputs": [],
   "source": [
    "ready_for_clouds = new_temp[['Name', 'positive_reviews', 'negative_reviews']]\n",
    "ready_for_clouds"
   ]
  },
  {
   "cell_type": "code",
   "execution_count": null,
   "id": "5798a9e3",
   "metadata": {},
   "outputs": [],
   "source": [
    "df['Number of positive reviews'] = tup_pos\n",
    "df['Number of negative reviews'] = tup_neg\n",
    "for i in range(strings):\n",
    "    if new.iat[i,1] == ['']:\n",
    "        new.iat[i,3] = new.iat[i,2]\n",
    "\n",
    "df['Total number of reviews'] = df['Number of positive reviews'] + df['Number of negative reviews']\n",
    "df"
   ]
  },
  {
   "cell_type": "code",
   "execution_count": null,
   "id": "10b0837e",
   "metadata": {},
   "outputs": [],
   "source": [
    "conditions = [(df['Number of positive reviews'] * 5 + df['Number of negative reviews'] * 1)/(df['Number of negative reviews']+df['Number of positive reviews'])<=1.5,\n",
    "              (df['Number of positive reviews'] * 5 + df['Number of negative reviews'] * 1)/(df['Number of negative reviews']+df['Number of positive reviews'])<=2.5, \n",
    "              (df['Number of positive reviews'] * 5 + df['Number of negative reviews'] * 1)/(df['Number of negative reviews']+df['Number of positive reviews'])<=3.5, \n",
    "              (df['Number of positive reviews'] * 5 + df['Number of negative reviews'] * 1)/(df['Number of negative reviews']+df['Number of positive reviews'])<=4.5 ,\n",
    "             (df['Number of positive reviews'] * 5 + df['Number of negative reviews'] * 1)/(df['Number of negative reviews']+df['Number of positive reviews'])>=4.5]\n",
    "five, four, three, two, one = 5, 4, 3, 2, 1\n",
    "output = [one, two, three, four, five]\n",
    "df['Rating'] = np.select(conditions, output)"
   ]
  },
  {
   "cell_type": "code",
   "execution_count": null,
   "id": "0f1bfc74",
   "metadata": {},
   "outputs": [],
   "source": [
    "df['Final Grade'] = []*strings\n",
    "for i in range(strings):\n",
    "    if df['Grade'][i] != '/':\n",
    "        df['Final Grade'][i] = (df['Grade'][i]+df['Rating'][i])/2\n",
    "    else:\n",
    "        df['Final Grade'][i] = df['Rating'][i]\n",
    "        \n",
    "df"
   ]
  }
 ],
 "metadata": {
  "kernelspec": {
   "display_name": "Python 3 (ipykernel)",
   "language": "python",
   "name": "python3"
  },
  "language_info": {
   "codemirror_mode": {
    "name": "ipython",
    "version": 3
   },
   "file_extension": ".py",
   "mimetype": "text/x-python",
   "name": "python",
   "nbconvert_exporter": "python",
   "pygments_lexer": "ipython3",
   "version": "3.10.9"
  }
 },
 "nbformat": 4,
 "nbformat_minor": 5
}

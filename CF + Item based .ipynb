{
 "cells": [
  {
   "cell_type": "code",
   "execution_count": 1,
   "id": "108b8b58",
   "metadata": {},
   "outputs": [],
   "source": [
    "import matplotlib.pyplot as plt\n",
    "import pandas as pd\n",
    "import numpy as np\n",
    "\n",
    "import os"
   ]
  },
  {
   "cell_type": "code",
   "execution_count": 2,
   "id": "934c2f40",
   "metadata": {},
   "outputs": [],
   "source": [
    "from sklearn.neighbors import NearestNeighbors\n",
    "from sklearn.model_selection import train_test_split as sklearn_train_test_split\n",
    "from sklearn.preprocessing import LabelEncoder\n",
    "from scipy.sparse import csr_matrix\n",
    "\n",
    "import pandas as pd\n",
    "import numpy as np\n",
    "import zipfile\n",
    "\n",
    "import os\n",
    "import sys"
   ]
  },
  {
   "cell_type": "code",
   "execution_count": 56,
   "id": "52f88d01",
   "metadata": {},
   "outputs": [],
   "source": [
    "import warnings\n",
    "warnings.filterwarnings('ignore')"
   ]
  },
  {
   "cell_type": "code",
   "execution_count": 57,
   "id": "64e46d6a",
   "metadata": {},
   "outputs": [],
   "source": [
    "ratings = pd.read_csv('ratings.csv').drop(['Unnamed: 0'], axis=1)\n",
    "providers = pd.read_csv('providers.csv')"
   ]
  },
  {
   "cell_type": "code",
   "execution_count": 58,
   "id": "e3c5e53f",
   "metadata": {},
   "outputs": [
    {
     "data": {
      "text/html": [
       "<div>\n",
       "<style scoped>\n",
       "    .dataframe tbody tr th:only-of-type {\n",
       "        vertical-align: middle;\n",
       "    }\n",
       "\n",
       "    .dataframe tbody tr th {\n",
       "        vertical-align: top;\n",
       "    }\n",
       "\n",
       "    .dataframe thead th {\n",
       "        text-align: right;\n",
       "    }\n",
       "</style>\n",
       "<table border=\"1\" class=\"dataframe\">\n",
       "  <thead>\n",
       "    <tr style=\"text-align: right;\">\n",
       "      <th></th>\n",
       "      <th>User_id</th>\n",
       "      <th>Registration number</th>\n",
       "      <th>rating</th>\n",
       "    </tr>\n",
       "  </thead>\n",
       "  <tbody>\n",
       "    <tr>\n",
       "      <th>0</th>\n",
       "      <td>0</td>\n",
       "      <td>0</td>\n",
       "      <td>2.8</td>\n",
       "    </tr>\n",
       "    <tr>\n",
       "      <th>1</th>\n",
       "      <td>0</td>\n",
       "      <td>7932</td>\n",
       "      <td>0.7</td>\n",
       "    </tr>\n",
       "    <tr>\n",
       "      <th>2</th>\n",
       "      <td>0</td>\n",
       "      <td>1879</td>\n",
       "      <td>0.4</td>\n",
       "    </tr>\n",
       "    <tr>\n",
       "      <th>3</th>\n",
       "      <td>0</td>\n",
       "      <td>7931</td>\n",
       "      <td>0.9</td>\n",
       "    </tr>\n",
       "    <tr>\n",
       "      <th>4</th>\n",
       "      <td>0</td>\n",
       "      <td>1880</td>\n",
       "      <td>1.8</td>\n",
       "    </tr>\n",
       "    <tr>\n",
       "      <th>...</th>\n",
       "      <td>...</td>\n",
       "      <td>...</td>\n",
       "      <td>...</td>\n",
       "    </tr>\n",
       "    <tr>\n",
       "      <th>109340</th>\n",
       "      <td>19</td>\n",
       "      <td>472</td>\n",
       "      <td>3.1</td>\n",
       "    </tr>\n",
       "    <tr>\n",
       "      <th>109341</th>\n",
       "      <td>19</td>\n",
       "      <td>2515</td>\n",
       "      <td>4.9</td>\n",
       "    </tr>\n",
       "    <tr>\n",
       "      <th>109342</th>\n",
       "      <td>19</td>\n",
       "      <td>2516</td>\n",
       "      <td>5.0</td>\n",
       "    </tr>\n",
       "    <tr>\n",
       "      <th>109343</th>\n",
       "      <td>19</td>\n",
       "      <td>2517</td>\n",
       "      <td>2.7</td>\n",
       "    </tr>\n",
       "    <tr>\n",
       "      <th>109344</th>\n",
       "      <td>19</td>\n",
       "      <td>9998</td>\n",
       "      <td>0.9</td>\n",
       "    </tr>\n",
       "  </tbody>\n",
       "</table>\n",
       "<p>109345 rows × 3 columns</p>\n",
       "</div>"
      ],
      "text/plain": [
       "        User_id  Registration number  rating\n",
       "0             0                    0     2.8\n",
       "1             0                 7932     0.7\n",
       "2             0                 1879     0.4\n",
       "3             0                 7931     0.9\n",
       "4             0                 1880     1.8\n",
       "...         ...                  ...     ...\n",
       "109340       19                  472     3.1\n",
       "109341       19                 2515     4.9\n",
       "109342       19                 2516     5.0\n",
       "109343       19                 2517     2.7\n",
       "109344       19                 9998     0.9\n",
       "\n",
       "[109345 rows x 3 columns]"
      ]
     },
     "execution_count": 58,
     "metadata": {},
     "output_type": "execute_result"
    }
   ],
   "source": [
    "ratings"
   ]
  },
  {
   "cell_type": "markdown",
   "id": "ade0c76c",
   "metadata": {},
   "source": [
    "### 1. Найдем схожесть между элементами\n",
    "1. найдем пользователей, которые оценили один и то же элемент\n",
    "2. нормализуем рейтинги\n",
    "3. рассчитаем косинусное расстояние для нормализованных рейтингов"
   ]
  },
  {
   "cell_type": "code",
   "execution_count": 59,
   "id": "75adfebc",
   "metadata": {},
   "outputs": [],
   "source": [
    "def normalize():\n",
    "    \n",
    "    # средний рейтинг по каждому пользователю\n",
    "    mean = ratings.groupby(by='User_id', as_index=False)['rating'].mean()\n",
    "    norm_ratings = pd.merge(ratings, mean, suffixes=('','_mean'), on='User_id')\n",
    "    \n",
    "    # нормализуем все рейтинги относительно среднего\n",
    "    norm_ratings['norm_rating'] = norm_ratings['rating'] - norm_ratings['rating_mean']\n",
    "    return mean.to_numpy()[:, 1], norm_ratings"
   ]
  },
  {
   "cell_type": "code",
   "execution_count": 60,
   "id": "3693863d",
   "metadata": {},
   "outputs": [
    {
     "data": {
      "text/html": [
       "<div>\n",
       "<style scoped>\n",
       "    .dataframe tbody tr th:only-of-type {\n",
       "        vertical-align: middle;\n",
       "    }\n",
       "\n",
       "    .dataframe tbody tr th {\n",
       "        vertical-align: top;\n",
       "    }\n",
       "\n",
       "    .dataframe thead th {\n",
       "        text-align: right;\n",
       "    }\n",
       "</style>\n",
       "<table border=\"1\" class=\"dataframe\">\n",
       "  <thead>\n",
       "    <tr style=\"text-align: right;\">\n",
       "      <th></th>\n",
       "      <th>User_id</th>\n",
       "      <th>Registration number</th>\n",
       "      <th>rating</th>\n",
       "      <th>rating_mean</th>\n",
       "      <th>norm_rating</th>\n",
       "    </tr>\n",
       "  </thead>\n",
       "  <tbody>\n",
       "    <tr>\n",
       "      <th>0</th>\n",
       "      <td>0</td>\n",
       "      <td>0</td>\n",
       "      <td>2.8</td>\n",
       "      <td>2.51721</td>\n",
       "      <td>0.28279</td>\n",
       "    </tr>\n",
       "    <tr>\n",
       "      <th>1</th>\n",
       "      <td>0</td>\n",
       "      <td>7932</td>\n",
       "      <td>0.7</td>\n",
       "      <td>2.51721</td>\n",
       "      <td>-1.81721</td>\n",
       "    </tr>\n",
       "    <tr>\n",
       "      <th>2</th>\n",
       "      <td>0</td>\n",
       "      <td>1879</td>\n",
       "      <td>0.4</td>\n",
       "      <td>2.51721</td>\n",
       "      <td>-2.11721</td>\n",
       "    </tr>\n",
       "    <tr>\n",
       "      <th>3</th>\n",
       "      <td>0</td>\n",
       "      <td>7931</td>\n",
       "      <td>0.9</td>\n",
       "      <td>2.51721</td>\n",
       "      <td>-1.61721</td>\n",
       "    </tr>\n",
       "    <tr>\n",
       "      <th>4</th>\n",
       "      <td>0</td>\n",
       "      <td>1880</td>\n",
       "      <td>1.8</td>\n",
       "      <td>2.51721</td>\n",
       "      <td>-0.71721</td>\n",
       "    </tr>\n",
       "    <tr>\n",
       "      <th>...</th>\n",
       "      <td>...</td>\n",
       "      <td>...</td>\n",
       "      <td>...</td>\n",
       "      <td>...</td>\n",
       "      <td>...</td>\n",
       "    </tr>\n",
       "    <tr>\n",
       "      <th>109340</th>\n",
       "      <td>19</td>\n",
       "      <td>472</td>\n",
       "      <td>3.1</td>\n",
       "      <td>2.48049</td>\n",
       "      <td>0.61951</td>\n",
       "    </tr>\n",
       "    <tr>\n",
       "      <th>109341</th>\n",
       "      <td>19</td>\n",
       "      <td>2515</td>\n",
       "      <td>4.9</td>\n",
       "      <td>2.48049</td>\n",
       "      <td>2.41951</td>\n",
       "    </tr>\n",
       "    <tr>\n",
       "      <th>109342</th>\n",
       "      <td>19</td>\n",
       "      <td>2516</td>\n",
       "      <td>5.0</td>\n",
       "      <td>2.48049</td>\n",
       "      <td>2.51951</td>\n",
       "    </tr>\n",
       "    <tr>\n",
       "      <th>109343</th>\n",
       "      <td>19</td>\n",
       "      <td>2517</td>\n",
       "      <td>2.7</td>\n",
       "      <td>2.48049</td>\n",
       "      <td>0.21951</td>\n",
       "    </tr>\n",
       "    <tr>\n",
       "      <th>109344</th>\n",
       "      <td>19</td>\n",
       "      <td>9998</td>\n",
       "      <td>0.9</td>\n",
       "      <td>2.48049</td>\n",
       "      <td>-1.58049</td>\n",
       "    </tr>\n",
       "  </tbody>\n",
       "</table>\n",
       "<p>109345 rows × 5 columns</p>\n",
       "</div>"
      ],
      "text/plain": [
       "        User_id  Registration number  rating  rating_mean  norm_rating\n",
       "0             0                    0     2.8      2.51721      0.28279\n",
       "1             0                 7932     0.7      2.51721     -1.81721\n",
       "2             0                 1879     0.4      2.51721     -2.11721\n",
       "3             0                 7931     0.9      2.51721     -1.61721\n",
       "4             0                 1880     1.8      2.51721     -0.71721\n",
       "...         ...                  ...     ...          ...          ...\n",
       "109340       19                  472     3.1      2.48049      0.61951\n",
       "109341       19                 2515     4.9      2.48049      2.41951\n",
       "109342       19                 2516     5.0      2.48049      2.51951\n",
       "109343       19                 2517     2.7      2.48049      0.21951\n",
       "109344       19                 9998     0.9      2.48049     -1.58049\n",
       "\n",
       "[109345 rows x 5 columns]"
      ]
     },
     "execution_count": 60,
     "metadata": {},
     "output_type": "execute_result"
    }
   ],
   "source": [
    "mean, norm_ratings = normalize()\n",
    "np_ratings = norm_ratings.to_numpy()\n",
    "norm_ratings"
   ]
  },
  {
   "cell_type": "code",
   "execution_count": 61,
   "id": "158a3f99",
   "metadata": {},
   "outputs": [
    {
     "data": {
      "text/plain": [
       "array([2.51720991, 2.50234467, 2.50288745, 2.52358987, 2.46925899,\n",
       "       2.48190337, 2.50443316, 2.50924002, 2.51825221, 2.51306122,\n",
       "       2.52432332, 2.51384909, 2.48101769, 2.4679558 , 2.47308766,\n",
       "       2.50564678, 2.49683858, 2.56511407, 2.49804805, 2.4804902 ])"
      ]
     },
     "execution_count": 61,
     "metadata": {},
     "output_type": "execute_result"
    }
   ],
   "source": [
    "mean"
   ]
  },
  {
   "cell_type": "code",
   "execution_count": 62,
   "id": "9247efdf",
   "metadata": {},
   "outputs": [],
   "source": [
    "# создадим CSR матрицу\n",
    "def item_representation(ratings):    \n",
    "    return csr_matrix(\n",
    "        pd.crosstab(ratings['Registration number'], ratings['User_id'], ratings.norm_rating, aggfunc=sum).fillna(0).values\n",
    "    )"
   ]
  },
  {
   "cell_type": "code",
   "execution_count": 63,
   "id": "2a7c7b88",
   "metadata": {},
   "outputs": [],
   "source": [
    "R = item_representation(norm_ratings)"
   ]
  },
  {
   "cell_type": "code",
   "execution_count": 64,
   "id": "3aba112f",
   "metadata": {},
   "outputs": [
    {
     "data": {
      "text/plain": [
       "109345"
      ]
     },
     "execution_count": 64,
     "metadata": {},
     "output_type": "execute_result"
    }
   ],
   "source": [
    "R.size"
   ]
  },
  {
   "cell_type": "code",
   "execution_count": 65,
   "id": "47a8db29",
   "metadata": {},
   "outputs": [],
   "source": [
    "# knn \n",
    "def create_model(rating_matrix, k=21, metric=\"cosine\"):\n",
    "    \"\"\"\n",
    "    - создание модели с базовыми параметрами\n",
    "    \"\"\"\n",
    "    model = NearestNeighbors(metric=metric, n_neighbors=k, algorithm='brute')\n",
    "    \n",
    "    \n",
    "    model.fit(rating_matrix)    \n",
    "    return model"
   ]
  },
  {
   "cell_type": "code",
   "execution_count": 66,
   "id": "67cb8111",
   "metadata": {},
   "outputs": [],
   "source": [
    "# расчет схожести\n",
    "def nearest_neighbors(rating_matrix, model):\n",
    "    \"\"\"\n",
    "    :param rating_matrix : матрица рейтингов (nb_users, nb_items)\n",
    "    :param model : модель knn  \n",
    "    \"\"\"    \n",
    "    similarities, neighbors = model.kneighbors(rating_matrix)        \n",
    "    return similarities[:, 1:], neighbors[:, 1:]"
   ]
  },
  {
   "attachments": {
    "image.png": {
     "image/png": "[encoded data removed]"
    }
   },
   "cell_type": "markdown",
   "id": "dba09972",
   "metadata": {},
   "source": [
    "### Ajusted Cosine Similarity (скорректированое)\n",
    "Работа с элементами, лучше всего заменить обычное косинусное сходство на скорректированое, т.к. пользователи могут завышать или занижать оценки. Каждый ставит оценку по своему \"ощущению\"\n",
    "![image.png](attachment:image.png)\n"
   ]
  },
  {
   "cell_type": "code",
   "execution_count": 67,
   "id": "c375cffa",
   "metadata": {},
   "outputs": [],
   "source": [
    "def save_similarities(similarities, neighbors, dataset_name):    \n",
    "    base_dir = 'sims'\n",
    "    save_dir = os.path.join(base_dir, dataset_name)\n",
    "    os.makedirs(save_dir, exist_ok=True)    \n",
    "    similarities_file_name = os.path.join(save_dir, 'similarities.npy')\n",
    "    neighbors_file_name = os.path.join(save_dir, 'neighbors.npy')    \n",
    "    try:\n",
    "        np.save(similarities_file_name, similarities)\n",
    "        np.save(neighbors_file_name, neighbors)        \n",
    "    except ValueError as error:\n",
    "        print(f\"Ошибка во время сохранения : \\n ValueError : {error}\")\n",
    "\n",
    "        \n",
    "def load_similarities(dataset_name, k=20):\n",
    "    base_dir = 'sims'\n",
    "    save_dir = os.path.join(base_dir, dataset_name)    \n",
    "    similiraties_file = os.path.join(save_dir, 'similarities.npy')\n",
    "    neighbors_file = os.path.join(save_dir, 'neighbors.npy')    \n",
    "    similarities = np.load(similiraties_file)\n",
    "    neighbors = np.load(neighbors_file)    \n",
    "    return similarities[:,:k], neighbors[:,:k]\n",
    "\n",
    "\n",
    "def cosine(x, y):\n",
    "    return np.dot(x, y) / (np.linalg.norm(x) * np.linalg.norm(y))\n",
    "\n",
    "def adjusted_cosine(np_ratings, nb_items, items, dataset_name):\n",
    "    similarities = np.zeros(shape=(nb_items, nb_items))\n",
    "    similarities.fill(-1)\n",
    "    \n",
    "    def _progress(count):\n",
    "        sys.stdout.write('\\rComputing similarities. Progress status : %.1f%%' % (float(count / nb_items)*100.0))\n",
    "        sys.stdout.flush()\n",
    "        \n",
    "    for i in items[:-1]:\n",
    "        for j in items[i+1:]:         \n",
    "            if i <= 10000 and j <= 10000:\n",
    "            \n",
    "                scores = np_ratings[(np_ratings[:, 1] == i) | (np_ratings[:, 1] == j), :]\n",
    "                vals, count = np.unique(scores[:,0], return_counts = True)\n",
    "                scores = scores[np.isin(scores[:,0], vals[count > 1]),:]\n",
    "\n",
    "                if scores.shape[0] > 2:\n",
    "                    x = scores[scores[:, 1].astype('int') == i, 4]\n",
    "                    y = scores[scores[:, 1].astype('int') == j, 4]\n",
    "                    w = cosine(x, y)\n",
    "                    similarities[i, j] = w\n",
    "                    similarities[j, i] = w\n",
    "            else:\n",
    "                pass\n",
    "            \n",
    "        _progress(i)\n",
    "    _progress(nb_items)\n",
    "    \n",
    "    # получаем и сортируем ближайших соседей\n",
    "    neighbors = np.flip(np.argsort(similarities), axis=1)\n",
    "    \n",
    "    # сортируем рейтинги \n",
    "    similarities = np.flip(np.sort(similarities), axis=1)\n",
    "    \n",
    "    # сохраняем\n",
    "    save_similarities(similarities, neighbors, dataset_name=dataset_name) \n",
    "    \n",
    "    return similarities, neighbors"
   ]
  },
  {
   "cell_type": "code",
   "execution_count": 68,
   "id": "b51804f6",
   "metadata": {},
   "outputs": [
    {
     "name": "stdout",
     "output_type": "stream",
     "text": [
      "Computing similarities. Progress status : 88.2%"
     ]
    },
    {
     "ename": "KeyboardInterrupt",
     "evalue": "",
     "output_type": "error",
     "traceback": [
      "\u001b[1;31m---------------------------------------------------------------------------\u001b[0m",
      "\u001b[1;31mKeyboardInterrupt\u001b[0m                         Traceback (most recent call last)",
      "Input \u001b[1;32mIn [68]\u001b[0m, in \u001b[0;36m<cell line: 4>\u001b[1;34m()\u001b[0m\n\u001b[0;32m      1\u001b[0m \u001b[38;5;66;03m# очень много объектов, предложите идею сокращения размерности?\u001b[39;00m\n\u001b[0;32m      3\u001b[0m nb_items \u001b[38;5;241m=\u001b[39m \u001b[38;5;241m10000\u001b[39m \u001b[38;5;66;03m#ratinvalue_countsId.nunique()\u001b[39;00m\n\u001b[1;32m----> 4\u001b[0m similarities, neighbors \u001b[38;5;241m=\u001b[39m \u001b[43madjusted_cosine\u001b[49m\u001b[43m(\u001b[49m\u001b[43mnp_ratings\u001b[49m\u001b[43m,\u001b[49m\u001b[43m \u001b[49m\u001b[43mnb_items\u001b[49m\u001b[38;5;241;43m=\u001b[39;49m\u001b[43mnb_items\u001b[49m\u001b[43m,\u001b[49m\u001b[43m \u001b[49m\u001b[43mitems\u001b[49m\u001b[43m \u001b[49m\u001b[38;5;241;43m=\u001b[39;49m\u001b[43m \u001b[49m\u001b[43mratings\u001b[49m\u001b[43m[\u001b[49m\u001b[38;5;124;43m'\u001b[39;49m\u001b[38;5;124;43mRegistration number\u001b[39;49m\u001b[38;5;124;43m'\u001b[39;49m\u001b[43m]\u001b[49m\u001b[38;5;241;43m.\u001b[39;49m\u001b[43munique\u001b[49m\u001b[43m(\u001b[49m\u001b[43m)\u001b[49m\u001b[43m,\u001b[49m\u001b[43m \u001b[49m\u001b[43mdataset_name\u001b[49m\u001b[38;5;241;43m=\u001b[39;49m\u001b[38;5;124;43m'\u001b[39;49m\u001b[38;5;124;43mml\u001b[39;49m\u001b[38;5;124;43m'\u001b[39;49m\u001b[43m)\u001b[49m\n",
      "Input \u001b[1;32mIn [67]\u001b[0m, in \u001b[0;36madjusted_cosine\u001b[1;34m(np_ratings, nb_items, items, dataset_name)\u001b[0m\n\u001b[0;32m     37\u001b[0m \u001b[38;5;28;01mif\u001b[39;00m i \u001b[38;5;241m<\u001b[39m\u001b[38;5;241m=\u001b[39m \u001b[38;5;241m10000\u001b[39m \u001b[38;5;129;01mand\u001b[39;00m j \u001b[38;5;241m<\u001b[39m\u001b[38;5;241m=\u001b[39m \u001b[38;5;241m10000\u001b[39m:\n\u001b[0;32m     39\u001b[0m     scores \u001b[38;5;241m=\u001b[39m np_ratings[(np_ratings[:, \u001b[38;5;241m1\u001b[39m] \u001b[38;5;241m==\u001b[39m i) \u001b[38;5;241m|\u001b[39m (np_ratings[:, \u001b[38;5;241m1\u001b[39m] \u001b[38;5;241m==\u001b[39m j), :]\n\u001b[1;32m---> 40\u001b[0m     vals, count \u001b[38;5;241m=\u001b[39m \u001b[43mnp\u001b[49m\u001b[38;5;241;43m.\u001b[39;49m\u001b[43munique\u001b[49m\u001b[43m(\u001b[49m\u001b[43mscores\u001b[49m\u001b[43m[\u001b[49m\u001b[43m:\u001b[49m\u001b[43m,\u001b[49m\u001b[38;5;241;43m0\u001b[39;49m\u001b[43m]\u001b[49m\u001b[43m,\u001b[49m\u001b[43m \u001b[49m\u001b[43mreturn_counts\u001b[49m\u001b[43m \u001b[49m\u001b[38;5;241;43m=\u001b[39;49m\u001b[43m \u001b[49m\u001b[38;5;28;43;01mTrue\u001b[39;49;00m\u001b[43m)\u001b[49m\n\u001b[0;32m     41\u001b[0m     scores \u001b[38;5;241m=\u001b[39m scores[np\u001b[38;5;241m.\u001b[39misin(scores[:,\u001b[38;5;241m0\u001b[39m], vals[count \u001b[38;5;241m>\u001b[39m \u001b[38;5;241m1\u001b[39m]),:]\n\u001b[0;32m     43\u001b[0m     \u001b[38;5;28;01mif\u001b[39;00m scores\u001b[38;5;241m.\u001b[39mshape[\u001b[38;5;241m0\u001b[39m] \u001b[38;5;241m>\u001b[39m \u001b[38;5;241m2\u001b[39m:\n",
      "File \u001b[1;32m<__array_function__ internals>:180\u001b[0m, in \u001b[0;36munique\u001b[1;34m(*args, **kwargs)\u001b[0m\n",
      "File \u001b[1;32m~\\AppData\\Local\\Programs\\Python\\Python39\\lib\\site-packages\\numpy\\lib\\arraysetops.py:272\u001b[0m, in \u001b[0;36munique\u001b[1;34m(ar, return_index, return_inverse, return_counts, axis)\u001b[0m\n\u001b[0;32m    270\u001b[0m ar \u001b[38;5;241m=\u001b[39m np\u001b[38;5;241m.\u001b[39masanyarray(ar)\n\u001b[0;32m    271\u001b[0m \u001b[38;5;28;01mif\u001b[39;00m axis \u001b[38;5;129;01mis\u001b[39;00m \u001b[38;5;28;01mNone\u001b[39;00m:\n\u001b[1;32m--> 272\u001b[0m     ret \u001b[38;5;241m=\u001b[39m \u001b[43m_unique1d\u001b[49m\u001b[43m(\u001b[49m\u001b[43mar\u001b[49m\u001b[43m,\u001b[49m\u001b[43m \u001b[49m\u001b[43mreturn_index\u001b[49m\u001b[43m,\u001b[49m\u001b[43m \u001b[49m\u001b[43mreturn_inverse\u001b[49m\u001b[43m,\u001b[49m\u001b[43m \u001b[49m\u001b[43mreturn_counts\u001b[49m\u001b[43m)\u001b[49m\n\u001b[0;32m    273\u001b[0m     \u001b[38;5;28;01mreturn\u001b[39;00m _unpack_tuple(ret)\n\u001b[0;32m    275\u001b[0m \u001b[38;5;66;03m# axis was specified and not None\u001b[39;00m\n",
      "File \u001b[1;32m~\\AppData\\Local\\Programs\\Python\\Python39\\lib\\site-packages\\numpy\\lib\\arraysetops.py:359\u001b[0m, in \u001b[0;36m_unique1d\u001b[1;34m(ar, return_index, return_inverse, return_counts)\u001b[0m\n\u001b[0;32m    357\u001b[0m     ret \u001b[38;5;241m+\u001b[39m\u001b[38;5;241m=\u001b[39m (inv_idx,)\n\u001b[0;32m    358\u001b[0m \u001b[38;5;28;01mif\u001b[39;00m return_counts:\n\u001b[1;32m--> 359\u001b[0m     idx \u001b[38;5;241m=\u001b[39m \u001b[43mnp\u001b[49m\u001b[38;5;241;43m.\u001b[39;49m\u001b[43mconcatenate\u001b[49m\u001b[43m(\u001b[49m\u001b[43mnp\u001b[49m\u001b[38;5;241;43m.\u001b[39;49m\u001b[43mnonzero\u001b[49m\u001b[43m(\u001b[49m\u001b[43mmask\u001b[49m\u001b[43m)\u001b[49m\u001b[43m \u001b[49m\u001b[38;5;241;43m+\u001b[39;49m\u001b[43m \u001b[49m\u001b[43m(\u001b[49m\u001b[43m[\u001b[49m\u001b[43mmask\u001b[49m\u001b[38;5;241;43m.\u001b[39;49m\u001b[43msize\u001b[49m\u001b[43m]\u001b[49m\u001b[43m,\u001b[49m\u001b[43m)\u001b[49m\u001b[43m)\u001b[49m\n\u001b[0;32m    360\u001b[0m     ret \u001b[38;5;241m+\u001b[39m\u001b[38;5;241m=\u001b[39m (np\u001b[38;5;241m.\u001b[39mdiff(idx),)\n\u001b[0;32m    361\u001b[0m \u001b[38;5;28;01mreturn\u001b[39;00m ret\n",
      "File \u001b[1;32m<__array_function__ internals>:180\u001b[0m, in \u001b[0;36mconcatenate\u001b[1;34m(*args, **kwargs)\u001b[0m\n",
      "\u001b[1;31mKeyboardInterrupt\u001b[0m: "
     ]
    }
   ],
   "source": [
    "# очень много объектов, предложите идею сокращения размерности?\n",
    "\n",
    "nb_items = 10000 #ratinvalue_countsId.nunique()\n",
    "similarities, neighbors = adjusted_cosine(np_ratings, nb_items=nb_items, items = ratings['Registration number'].unique(), dataset_name='ml')"
   ]
  },
  {
   "cell_type": "markdown",
   "id": "784d12a5",
   "metadata": {},
   "source": [
    "### 2. Top N рекомендаций для пользователя\n",
    "1. Найдем элементы-кандидаты для рекомендации\n",
    "2. Выбирем элементы, который пользователь уже оценил\n",
    "3. Сделаем расчет сходства по всем элементам\n",
    "4. Исключим уже отмеченные пользователем элементы"
   ]
  },
  {
   "cell_type": "code",
   "execution_count": null,
   "id": "b6302ffb",
   "metadata": {},
   "outputs": [],
   "source": [
    "np.set_printoptions(precision=2, floatmode='fixed')"
   ]
  },
  {
   "cell_type": "code",
   "execution_count": null,
   "id": "97b73961",
   "metadata": {},
   "outputs": [],
   "source": [
    "np_ratings[np_ratings[:, 0] == 0][:, 1].astype('int64')"
   ]
  },
  {
   "cell_type": "code",
   "execution_count": null,
   "id": "4c686b18",
   "metadata": {},
   "outputs": [],
   "source": [
    "def candidate_items(userid):\n",
    "    \"\"\"\n",
    "    :param userid : пользователь чей набор рекомендаций собираем \n",
    "    :return : элементы в наборе\n",
    "    \"\"\"\n",
    "    \n",
    "    # 1. Выбирем элементы, который пользователь уже оценил\n",
    "    I_u = np_ratings[np_ratings[:, 0] == userid]\n",
    "    I_u = I_u[:, 1].astype('int64')\n",
    "    \n",
    "    # 2. Сделаем расчет сходства по всем элементам\n",
    "    c = set()\n",
    "        \n",
    "    for iid in I_u:    \n",
    "        # добавим соседей выбранного элемента\n",
    "        c.update(neighbors[iid])\n",
    "        \n",
    "    c = list(c)\n",
    "    # 3. Исключим уже отмеченные пользователем элементы\n",
    "    candidates = np.setdiff1d(c, I_u, assume_unique=True)\n",
    "    \n",
    "    return I_u, candidates"
   ]
  },
  {
   "cell_type": "code",
   "execution_count": null,
   "id": "a05628a8",
   "metadata": {},
   "outputs": [],
   "source": [
    "i_u, u_candidates = candidate_items(2)"
   ]
  },
  {
   "cell_type": "code",
   "execution_count": null,
   "id": "a7b3c342",
   "metadata": {},
   "outputs": [],
   "source": [
    "print('кол-во элементов по пользователю : ', len(i_u))\n",
    "print('кол-во возможных рекомендаций для пользователя : ', len(u_candidates))"
   ]
  },
  {
   "cell_type": "code",
   "execution_count": null,
   "id": "7cfd1e0c",
   "metadata": {},
   "outputs": [],
   "source": [
    "def similarity_with_Iu(c, I_u):\n",
    "    \"\"\"\n",
    "    функция поиска сходства\n",
    "    \"\"\"\n",
    "    w = 0    \n",
    "    for iid in I_u :        \n",
    "        # схожесть между элементами (по элементно)\n",
    "        # наш совместный код\n",
    "        \n",
    "        \n",
    "    return w"
   ]
  },
  {
   "cell_type": "code",
   "execution_count": null,
   "id": "494abc69",
   "metadata": {},
   "outputs": [],
   "source": [
    "def rank_candidates(candidates, I_u):\n",
    "    \"\"\"\n",
    "    расчет рангов и общая сортировка всех элементов\n",
    "    \"\"\"\n",
    "    \n",
    "    # из списка элементов вычисляем для каждого схожесть\n",
    "    sims = [similarity_with_Iu(c, I_u) for c in candidates]  \n",
    "    mapping = list(zip(candidates, sims))\n",
    "    \n",
    "    # сортируем результаты по рейтингу\n",
    "    ranked_candidates = sorted(mapping, key=lambda couple:couple[1], reverse=True)    \n",
    "    return ranked_candidates"
   ]
  },
  {
   "cell_type": "code",
   "execution_count": null,
   "id": "9fd1bf5f",
   "metadata": {},
   "outputs": [],
   "source": [
    "def topn_recommendation(userid, N=10):\n",
    "    \"\"\"\n",
    "    функция отбора Топ-N рекомендаций\n",
    "    \"\"\"\n",
    "    # поиск элементов\n",
    "    I_u, candidates = candidate_items(userid)\n",
    "    \n",
    "    #  сортировка элементов \n",
    "    ranked_candidates = rank_candidates(candidates, I_u)\n",
    "    \n",
    "    # отбор Топ-N\n",
    "    topn = pd.DataFrame(ranked_candidates[:N], columns=['Registration number','similarity_with_Iu'])    \n",
    "    topn = pd.merge(topn, movies, on='Registration number', how='inner')    \n",
    "    return topn"
   ]
  },
  {
   "cell_type": "code",
   "execution_count": null,
   "id": "f4ac7fb0",
   "metadata": {},
   "outputs": [],
   "source": [
    "topn_recommendation(2)"
   ]
  },
  {
   "cell_type": "code",
   "execution_count": null,
   "id": "56de4b15",
   "metadata": {},
   "outputs": [],
   "source": []
  }
 ],
 "metadata": {
  "kernelspec": {
   "display_name": "Python 3 (ipykernel)",
   "language": "python",
   "name": "python3"
  },
  "language_info": {
   "codemirror_mode": {
    "name": "ipython",
    "version": 3
   },
   "file_extension": ".py",
   "mimetype": "text/x-python",
   "name": "python",
   "nbconvert_exporter": "python",
   "pygments_lexer": "ipython3",
   "version": "3.9.13"
  }
 },
 "nbformat": 4,
 "nbformat_minor": 5
}
